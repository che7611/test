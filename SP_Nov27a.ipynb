{
 "cells": [
  {
   "cell_type": "code",
   "execution_count": 2,
   "metadata": {
    "scrolled": true
   },
   "outputs": [
    {
     "name": "stdout",
     "output_type": "stream",
     "text": [
      "Finished1\n"
     ]
    }
   ],
   "source": [
    "import pandas as pd\n",
    "import pymysql\n",
    "import numpy as np\n",
    "import pyodbc\n",
    "import matplotlib.pyplot as plt\n",
    "import sys\n",
    "import datetime\n",
    "\n",
    "#Read for Clipboard\n",
    "def GetClip():\n",
    "    clip=pd.read_clipboard()\n",
    "    cols=['ID','Name','BQty','SQty','Price','Trade','Status','Initiator','Ref','Time','OrderPrice','Order','Ext','Log']\n",
    "    clip.columns=cols\n",
    "    col1=['ID','Name','BQty','SQty','Price','Time','Log']\n",
    "    return clip.loc[:,col1]\n",
    "\n",
    "#Read data for SQL SERVER\n",
    "def GetSQL():\n",
    "    #conn=pyodbc.connect('DRIVER={SQL Server};SERVER=seo3;PORT=1433;DATABASE=stock;UID=sa;PWD=test1234')\n",
    "    conn=pyodbc.connect('DRIVER={SQL Server};SERVER=SEO4\\SQLEXPRESS;PORT=1433;DATABASE=stock;UID=sa;PWD=test1234')   \n",
    "    sql=\"select ID,memo,date,case when type='BUY' then volume end BQty,case when type='SELL' then volume end  SQty,Price,Trade_Time,LNG from HK_Trade order by Trade_Time\"\n",
    "    df1=pd.read_sql(sql,conn)\n",
    "    col1=['ID','Name','Date','BQty','SQty','Price','Time','Log']\n",
    "    df1.columns=col1\n",
    "    return df1\n",
    "\n",
    "def GetMYSQL():\n",
    "    #conn=pyodbc.connect('DRIVER={SQL Server};SERVER=seo3;PORT=1433;DATABASE=stock;UID=sa;PWD=test1234')\n",
    "    conn=pymysql.connect(\"kairuiserver\",\"kairuitouzi\",\"kairuitouzi\",\"stockdate\" )    \n",
    "    sql=\"select ID,memo,date,case when type='BUY' then volume end BQty,case when type='SELL' then volume end  SQty,Price,Trade_Time,LNG from HK_Trade order by Trade_Time\"\n",
    "    df1=pd.read_sql(sql,conn)\n",
    "    col1=['ID','Name','Date','BQty','SQty','Price','Time','Log']\n",
    "    df1.columns=col1\n",
    "    return df1\n",
    "\n",
    "# df=GetSQL()\n",
    "#汇总成本\n",
    "def CalcRec(line=0):   \n",
    "    if line==0:\n",
    "        SLists=df[df.SQty.notnull()]\n",
    "        BLists=df[df.BQty.notnull()]\n",
    "    else:\n",
    "        df1=df.iloc[line:]\n",
    "        SLists=df1[df1.SQty.notnull()]        \n",
    "        BLists=df1[df1.BQty.notnull()]   \n",
    "    Buy=BLists.loc[:,['BQty','Price',\"Time\"]]\n",
    "    BB,Bsum=Buy.BQty.sum(),Buy.prod(1,1).sum()    \n",
    "    Sell=SLists.loc[:,['SQty','Price','Time']]\n",
    "    SS,Ssum=Sell.SQty.sum(),Sell.prod(1,1).sum()\n",
    "    Result={}\n",
    "    Result['Buy_Lots']=BB\n",
    "    Result['Buy_Cost']=Bsum/BB\n",
    "    Result['Sell_Lots']=SS\n",
    "    Result['Sell_Cost']=Ssum/BB\n",
    "    Result['Holds']=BB-SS\n",
    "    Result['Charges']=max(BB,SS)*67.08\n",
    "    if BB!=SS:        \n",
    "        Result['Hold_Cost']=(Ssum-Bsum)/abs((BB-SS))\n",
    "        Result['Hold_Cost1']=Result['Hold_Cost']+BB*67.08/50 if BB>SS else Result['Hold_Cost']-SS*67.08/50\n",
    "    else:\n",
    "        Result['Profit']=(Ssum-Bsum)*50.0\n",
    "        Result['Net Profit']=Result['Profit']-Result['Charges']\n",
    "    return Result         \n",
    "\n",
    "def CloseSell(ii):\n",
    "    CurL=df.iloc[ii]\n",
    "    QTY=CurL.BQty\n",
    "    while QTY>0:    \n",
    "        if not len(b):\n",
    "            CurL.at['BQty']=QTY\n",
    "            a.append(CurL)              \n",
    "            holdB=sum(l1.BQty for l1 in a)\n",
    "            holdSum=sum(l1.BQty*l1.Price for l1 in a)\n",
    "            OpenTime=CurL['Time']\n",
    "            OpenPrice=CurL['Price']            \n",
    "            ll=['addBuy',holdB,QTY,OpenTime,OpenPrice,0,holdSum/holdB]\n",
    "            ResList.append(ll)\n",
    "            #print(OpenTime,'add a')\n",
    "            break \n",
    "        popSell=b.pop()       \n",
    "        sq=popSell['SQty']        \n",
    "        if sq<=QTY: \n",
    "            holdS=sum(l1.SQty for l1 in b)\n",
    "            point=popSell.Price-CurL.Price\n",
    "            profit=sq*point*50\n",
    "            ll=['CloseS',-holdS,sq,popSell.Time,popSell.Price,CurL.Time,CurL.Price,point,profit]            \n",
    "            QTY=QTY-sq\n",
    "        elif sq>QTY:\n",
    "            popSell.at['SQty']=sq-QTY\n",
    "            b.append(popSell)\n",
    "            holdS=sum(l1.SQty for l1 in b)\n",
    "            point=popSell.Price-CurL.Price\n",
    "            profit=QTY*point*50\n",
    "            ll=['CloseS',-holdS,QTY,popSell.Time,popSell.Price,CurL.Time,CurL.Price,point,profit]           \n",
    "            QTY=0\n",
    "        ResList.append(ll)\n",
    "            \n",
    "def CloseBuy(ii):\n",
    "    CurL=df.iloc[ii]\n",
    "    QTY=CurL.SQty\n",
    "    while QTY>0:\n",
    "        if not len(a):\n",
    "            CurL.at['SQty']=QTY\n",
    "            a.append(CurL)              \n",
    "            holdS=sum(l1.SQty for l1 in b)\n",
    "            holdSum=sum(l1.SQty*l1.Price for l1 in b)\n",
    "            OpenTime=CurL['Time']\n",
    "            OpenPrice=CurL['Price']            \n",
    "            ll=['addBuy',-holdS,QTY,OpenTime,OpenPrice,0,holdSum/holdS]\n",
    "            ResList.append(ll)\n",
    "            print(OpenTime,'add b')\n",
    "            break\n",
    "        popSell=a.pop()       \n",
    "        bq=popSell['BQty']\n",
    "        if bq<=QTY:\n",
    "            holdB=sum(l1.BQty for l1 in a)\n",
    "            point=CurL.Price-popSell.Price\n",
    "            profit=bq*point*50\n",
    "            ll=['CloseB',holdB,-bq,popSell.Time,popSell.Price,CurL.Time,CurL.Price,point,profit]           \n",
    "            QTY=QTY-bq\n",
    "        elif bq>QTY: \n",
    "            popSell.at['BQty']=bq-QTY\n",
    "            a.append(popSell)\n",
    "            holdB=sum(l1.BQty for l1 in a)\n",
    "            point=CurL.Price-popSell.Price\n",
    "            profit=QTY*point*50\n",
    "            ll=['CloseB',holdB,-QTY,popSell.Time,popSell.Price,CurL.Time,CurL.Price,point,profit]           \n",
    "            QTY=0\n",
    "        ResList.append(ll)\n",
    "\n",
    "# 每行计算\n",
    "def CalcRows():\n",
    "    index=0    \n",
    "    global a\n",
    "    global b\n",
    "    global ResList\n",
    "    a=[]\n",
    "    b=[]\n",
    "    ResList=[]\n",
    "    for index in df.index:  \n",
    "        CNTB,CNTS=len(a),len(b)\n",
    "        #print(index,CNTB)\n",
    "        if df.BQty[index]>0 and CNTS==0:            \n",
    "            a.append(df.iloc[index])              \n",
    "            holdB=sum(l1.BQty for l1 in a)\n",
    "            holdSum=sum(l1.BQty*l1.Price for l1 in a)\n",
    "            OpenTime=df.loc[index,'Time']\n",
    "            OpenPrice=df.loc[index,'Price']            \n",
    "            ll=['addBuy',holdB,df.BQty[index],OpenTime,OpenPrice,0,holdSum/holdB]\n",
    "            ResList.append(ll)\n",
    "        elif df.SQty[index]>0 and CNTB==0:\n",
    "            b.append(df.iloc[index])  \n",
    "            holdS=sum(l1.SQty for l1 in b)\n",
    "            holdSum=sum(l1.SQty*l1.Price for l1 in b)\n",
    "            OpenTime=df.loc[index,'Time']\n",
    "            OpenPrice=df.loc[index,'Price']\n",
    "            ll=['addSell',-holdS,-df.SQty[index],OpenTime,OpenPrice,0,holdSum/holdS]            \n",
    "            ResList.append(ll)\n",
    "        elif df.BQty[index]>0 and CNTS>0:           \n",
    "            CloseSell(index)\n",
    "        elif df.SQty[index]>0 and CNTB>0:        \n",
    "            CloseBuy(index)        \n",
    "            \n",
    "    ResList=pd.DataFrame(ResList)\n",
    "    cols=['Action','Hold','QTY','OpenTime','OpenPrice','CLoseTime','ClosePrice','Point','Profit']\n",
    "    ResList.columns=cols    \n",
    "    return ResList\n",
    "\n",
    "# 汇总总的平仓情况\n",
    "def CalcClose():\n",
    "    rows=CalcRows()\n",
    "    pp=rows[rows.Point.notnull()]\n",
    "    show={}\n",
    "    sumQTY=sum(abs(pp.loc[qq,'QTY'])for qq in pp.index)    \n",
    "    sumProfit=pp.Profit.sum()\n",
    "    sumPoint=pp.Point.sum()\n",
    "    show['TotalProfit:']=sumProfit\n",
    "    show['NetProfit:']=sumProfit-sumQTY*67.08\n",
    "    show['Lots:']=sumQTY\n",
    "    show['AvgPoint:']=sumPoint/sumQTY\n",
    "    show['AvgProfit:']=sumProfit/sumQTY\n",
    "    show['Chareges:']=sumQTY*67.08\n",
    "    show['AvgNetP:']=sumPoint/sumQTY-67.08/50\n",
    "    show['AvgNetPro:']=sumProfit/sumQTY-67.08\n",
    "    return show\n",
    "\n",
    "#汇总成本\n",
    "def CalcRec(line=0):   \n",
    "    if line==0:\n",
    "        SLists=df[df.SQty.notnull()]\n",
    "        BLists=df[df.BQty.notnull()]\n",
    "    else:\n",
    "        df1=df.iloc[line:]\n",
    "        SLists=df1[df1.SQty.notnull()]        \n",
    "        BLists=df1[df1.BQty.notnull()]   \n",
    "    Buy=BLists.loc[:,['BQty','Price',\"Time\"]]\n",
    "    BB,Bsum=Buy.BQty.sum(),Buy.prod(1,1).sum()    \n",
    "    Sell=SLists.loc[:,['SQty','Price','Time']]\n",
    "    SS,Ssum=Sell.SQty.sum(),Sell.prod(1,1).sum()\n",
    "    Result={}\n",
    "    Result['Buy_Lots']=BB\n",
    "    Result['Buy_Cost']=Bsum/BB\n",
    "    Result['Sell_Lots']=SS\n",
    "    Result['Sell_Cost']=Ssum/BB\n",
    "    Result['Holds']=BB-SS\n",
    "    Result['Charges']=max(BB,SS)*67.08\n",
    "    if BB!=SS:        \n",
    "        Result['Hold_Cost']=(Ssum-Bsum)/abs((BB-SS))\n",
    "        Result['Hold_Cost1']=Result['Hold_Cost']+BB*67.08/50 if BB>SS else Result['Hold_Cost']-SS*67.08/50\n",
    "    else:\n",
    "        Result['Profit']=(Ssum-Bsum)*50.0\n",
    "        Result['Net Profit']=Result['Profit']-Result['Charges']\n",
    "    return Result        \n",
    "\n",
    "#Update Commission\n",
    "def UpdateSql():\n",
    "    print('Begin')\n",
    "    conn=pyodbc.connect('DRIVER={SQL Server};SERVER=seo3;PORT=1433;DATABASE=stock;UID=sa;PWD=test1234')\n",
    "    nd1=df[df.Date>'2017/9/7']\n",
    "    for name,group in nd1.groupby([nd1.Date]):\n",
    "        dd=group\n",
    "        lots=dd.BQty.sum()-dd.SQty.sum()\n",
    "        if lots!=0:\n",
    "            dd1=dd[dd.SQty>0] if lots<0 else dd[dd.BQty>0]\n",
    "            dd1.sort_index(by='Time',ascending=False)\n",
    "            pos=0\n",
    "            vv=abs(lots)\n",
    "            while vv>0:\n",
    "                sq=dd1.SQty.iloc[pos] if lots<0 else dd1.BQty.iloc[pos]\n",
    "                sql=\"update hk_trade set AllCharges=Commission+Other1+Other2+%d*25.0 where lng=%d\"\n",
    "                if sq>vv:                \n",
    "                    sql=sql %(vv,dd1.Log.iloc[pos])                \n",
    "                    vv=0\n",
    "                else:\n",
    "                    sql=sql %(sq,dd1.Log.iloc[pos])                 \n",
    "                    vv=vv-sq\n",
    "                #print(sql)\n",
    "                conn.execute(sql)\n",
    "                pos=pos+1\n",
    "    conn.commit()\n",
    "    conn.close()\n",
    "    print ('End')\n",
    "\n",
    "\n",
    "print('Finished1')"
   ]
  },
  {
   "cell_type": "code",
   "execution_count": 3,
   "metadata": {
    "scrolled": true
   },
   "outputs": [
    {
     "name": "stdout",
     "output_type": "stream",
     "text": [
      "Begin\n",
      "End 0:00:15.382880\n"
     ]
    }
   ],
   "source": [
    "dt=datetime.datetime.now()\n",
    "print('Begin')\n",
    "#df=GetSQL()\n",
    "df=GetMYSQL()\n",
    "#df=GetClip()\n",
    "list1=CalcRows()\n",
    "print('End',datetime.datetime.now()-dt)\n",
    "#show2=CalcClose()\n",
    "#show2"
   ]
  },
  {
   "cell_type": "code",
   "execution_count": 10,
   "metadata": {
    "collapsed": true
   },
   "outputs": [
    {
     "data": {
      "text/plain": [
       "{'Buy_Cost': 29051.85714285714,\n",
       " 'Buy_Lots': 42.0,\n",
       " 'Charges': 2817.36,\n",
       " 'Holds': 0.0,\n",
       " 'Net Profit': 37882.64,\n",
       " 'Profit': 40700.0,\n",
       " 'Sell_Cost': 29071.238095238095,\n",
       " 'Sell_Lots': 42.0}"
      ]
     },
     "execution_count": 10,
     "metadata": {},
     "output_type": "execute_result"
    }
   ],
   "source": [
    "show1=CalcRec()\n",
    "show1"
   ]
  },
  {
   "cell_type": "code",
   "execution_count": 109,
   "metadata": {
    "collapsed": true
   },
   "outputs": [
    {
     "data": {
      "text/plain": [
       "{'Buy_Cost': 29051.85714285714,\n",
       " 'Buy_Lots': 42.0,\n",
       " 'Charges': 2817.36,\n",
       " 'Holds': 0.0,\n",
       " 'Net Profit': 37882.64,\n",
       " 'Profit': 40700.0,\n",
       " 'Sell_Cost': 29071.238095238095,\n",
       " 'Sell_Lots': 42.0}"
      ]
     },
     "execution_count": 109,
     "metadata": {},
     "output_type": "execute_result"
    }
   ],
   "source": [
    "df=GetClip()\n",
    "show1=CalcRec()\n",
    "show1"
   ]
  },
  {
   "cell_type": "code",
   "execution_count": 5,
   "metadata": {},
   "outputs": [
    {
     "name": "stdout",
     "output_type": "stream",
     "text": [
      "Populating the interactive namespace from numpy and matplotlib\n"
     ]
    },
    {
     "data": {
      "image/png": "[encoded data removed]",
      "text/plain": [
       "<matplotlib.figure.Figure at 0x35560f0>"
      ]
     },
     "metadata": {},
     "output_type": "display_data"
    },
    {
     "data": {
      "image/png": "[encoded data removed]",
      "text/plain": [
       "<matplotlib.figure.Figure at 0xcce9400>"
      ]
     },
     "metadata": {},
     "output_type": "display_data"
    }
   ],
   "source": [
    "# 分析图测试 \n",
    "%pylab inline\n",
    "ss=ResList[ResList.Point!=0]\n",
    "ss=ss.iloc[:20000]\n",
    "ss['hh']=ss.loc[:,'OpenTime'].apply(lambda x:pd.to_datetime(x).hour*60+pd.to_datetime(x).minute)\n",
    "plt.scatter(ss.hh,ss.Point,s=4,c=ss.Profit,cmap=plt.cm.CMRmap)\n",
    "ss.plot.hexbin(x='hh', y='Point', gridsize=10)\n",
    "a=[i*30 for i in range(9*2,16*2,1)]\n",
    "b=[str(i//2)+\":\"+str(i%2*30) for i in range(9*2,16*2,1)]\n",
    "plt.title('HSI Trade')\n",
    "plt.xlabel('Trade Time')\n",
    "plt.ylabel('Profit')\n",
    "#plt.xticks(a,b)\n",
    "plt.twinx()\n",
    "ss.hh.plot(kind='kde')\n",
    "plt.show()"
   ]
  },
  {
   "cell_type": "code",
   "execution_count": 6,
   "metadata": {},
   "outputs": [
    {
     "name": "stdout",
     "output_type": "stream",
     "text": [
      "OK\n"
     ]
    }
   ],
   "source": [
    "#update Sec\n",
    "Sec=0\n",
    "ResList['Sec']=0\n",
    "for i in ResList.index:\n",
    "    if ResList.Hold.loc[i]==ResList.QTY.loc[i]:\n",
    "        #print(i,Sec)\n",
    "        Sec=Sec+1\n",
    "    ResList.loc[i,'Sec']=Sec\n",
    "    \n",
    "ResList['CLoseTime']=ResList.CLoseTime.apply(lambda x:pd.to_datetime(0) if x==0 else x)\n",
    "\n",
    "#按SEC汇总 \n",
    "newSec=ResList.groupby('Sec').agg({'Hold':lambda x:min(x) if max(x)==0 else max(x),\n",
    "                             'Profit':np.sum,'QTY':np.size,\n",
    "                             'OpenTime':np.min,'CLoseTime':np.max,'Point':np.min})\n",
    "\n",
    "newSec['MaxPoint']=ResList.groupby('Sec').agg({'Point':np.max})\n",
    "newSec['Diff']=newSec.CLoseTime-newSec.OpenTime\n",
    "newSec['Delta']=newSec.Diff.apply(lambda x:x.seconds+x.days*24*60*60)\n",
    "\n",
    "newSec.rename(columns={'Point':'MinPoint','QTY':'CNT'},inplace = True)\n",
    "\n",
    "\n",
    "print('OK')"
   ]
  },
  {
   "cell_type": "code",
   "execution_count": 10,
   "metadata": {},
   "outputs": [
    {
     "name": "stdout",
     "output_type": "stream",
     "text": [
      "Using matplotlib backend: Qt5Agg\n",
      "Populating the interactive namespace from numpy and matplotlib\n"
     ]
    }
   ],
   "source": [
    "%pylab\n",
    "tt=newSec.groupby('Hold')\n",
    "newTT=tt.agg({'Profit':np.sum,'Hold':np.size})\n",
    "newTT.sort_values(by='Profit',ascending=False)\n",
    "#newTT.to_clipboard()\n",
    "\n",
    "newTT['HH']=newTT.index\n",
    "fig = plt.figure()\n",
    "#newTT.plot.scatter(x='HH',y='CNT')\n",
    "ax=newTT['Hold'].plot(kind='bar', color=['r','y'],use_index=True,grid=True,stacked=True,\n",
    "                     label='Count',alpha=0.5)\n",
    "ax.legend(loc='upper left') \n",
    "ax.set_ylabel(\"Count\")\n",
    "\n",
    "\n",
    "ax3=ax.twinx()\n",
    "ax3.set_ylabel(\"Profit\")\n",
    "ax3=newTT['Profit'].plot(kind='bar', color='y',use_index=True,stacked=True,grid=True,label='Profit')\n",
    "ax3.legend(loc = 0)  \n",
    "plt.show()\n",
    "\n",
    "# newTT.plot(kind='bar',subplots=True, figsize=(200, 200),layout=(3, 1),use_index=True,grid=True,sharex=False);\n",
    "\n",
    "\n",
    "#newTT['HH']=abs(newTT.index)\n",
    "#pp=newTT.groupby('HH').sum()\n",
    "#pp['Cumsum']=pp.Profit.cumsum()\n",
    "#b=[i for i in range(0,150,2)]\n",
    "#plt.xticks(b)\n",
    "#pp.Cumsum.plot(kind='area', figsize=(200, 200),use_index=True,grid=True,sharex=False);"
   ]
  },
  {
   "cell_type": "code",
   "execution_count": 47,
   "metadata": {},
   "outputs": [
    {
     "data": {
      "text/plain": [
       "-11.601309441764302"
      ]
     },
     "execution_count": 47,
     "metadata": {},
     "output_type": "execute_result"
    }
   ],
   "source": [
    "test1=newSec[abs(newSec.Hold)>12]\n",
    "hh=test1.Hold.apply(lambda x:abs(x)).sum()\n",
    "pp=test1.Profit.sum()\n",
    "pp/hh/50"
   ]
  },
  {
   "cell_type": "code",
   "execution_count": 48,
   "metadata": {},
   "outputs": [
    {
     "data": {
      "text/plain": [
       "-5050050.0"
      ]
     },
     "execution_count": 48,
     "metadata": {},
     "output_type": "execute_result"
    }
   ],
   "source": [
    "test2=test1[test1.Profit<0]\n",
    "hh1=test1.Hold.apply(lambda x:abs(x)).sum()\n",
    "pp1=test1.Profit.sum()\n",
    "pp"
   ]
  },
  {
   "cell_type": "code",
   "execution_count": 44,
   "metadata": {},
   "outputs": [
    {
     "data": {
      "text/plain": [
       "17.5600756859035"
      ]
     },
     "execution_count": 44,
     "metadata": {},
     "output_type": "execute_result"
    }
   ],
   "source": [
    "test2=test1[test1.Profit>0]\n",
    "hh=test2.Hold.apply(lambda x:abs(x)).sum()\n",
    "pp=test2.Profit.sum()\n",
    "pp/hh/50"
   ]
  },
  {
   "cell_type": "code",
   "execution_count": 8,
   "metadata": {},
   "outputs": [
    {
     "name": "stderr",
     "output_type": "stream",
     "text": [
      "d:\\ProgramData\\Anaconda3\\lib\\site-packages\\ipykernel_launcher.py:25: SettingWithCopyWarning: \n",
      "A value is trying to be set on a copy of a slice from a DataFrame\n",
      "\n",
      "See the caveats in the documentation: http://pandas.pydata.org/pandas-docs/stable/indexing.html#indexing-view-versus-copy\n"
     ]
    },
    {
     "name": "stdout",
     "output_type": "stream",
     "text": [
      "OK 0:03:12.626017\n"
     ]
    }
   ],
   "source": [
    "t1=datetime.datetime.now()\n",
    "newSec['Delta']=newSec.Diff.apply(lambda x:x.seconds+x.days*24*60*60)\n",
    "newSec['ctime']=0\n",
    "for i in newSec.index:\n",
    "    if newSec.Delta[i]<=5*60:\n",
    "        ctime=1\n",
    "    elif newSec.Delta[i]<=10*60:\n",
    "        ctime=2\n",
    "    elif newSec.Delta[i]<=20*60:\n",
    "        ctime=3\n",
    "    elif newSec.Delta[i]<=30*60:\n",
    "        ctime=4\n",
    "    elif newSec.Delta[i]<=60*60:\n",
    "        ctime=5\n",
    "    elif newSec.Delta[i]<=120*60:\n",
    "        ctime=6\n",
    "    elif newSec.Delta[i]<=180*60:\n",
    "        ctime=7\n",
    "    elif newSec.Delta[i]<=240*60:\n",
    "        ctime=8\n",
    "    elif newSec.Delta[i]<=480*60:\n",
    "        ctime=9\n",
    "    else:\n",
    "        ctime=10\n",
    "    newSec.ctime[i]=ctime\n",
    "\n",
    "print(\"OK\",datetime.datetime.now()-t1)\n",
    "        "
   ]
  },
  {
   "cell_type": "code",
   "execution_count": 9,
   "metadata": {},
   "outputs": [
    {
     "name": "stdout",
     "output_type": "stream",
     "text": [
      "Using matplotlib backend: Qt5Agg\n",
      "Populating the interactive namespace from numpy and matplotlib\n"
     ]
    },
    {
     "ename": "TypeError",
     "evalue": "'AxesSubplot' object does not support indexing",
     "output_type": "error",
     "traceback": [
      "\u001b[1;31m---------------------------------------------------------------------------\u001b[0m",
      "\u001b[1;31mTypeError\u001b[0m                                 Traceback (most recent call last)",
      "\u001b[1;32m<ipython-input-9-4130d96a37c6>\u001b[0m in \u001b[0;36m<module>\u001b[1;34m()\u001b[0m\n\u001b[0;32m      3\u001b[0m \u001b[0mplt\u001b[0m\u001b[1;33m.\u001b[0m\u001b[0mtick_params\u001b[0m\u001b[1;33m(\u001b[0m\u001b[0maxis\u001b[0m\u001b[1;33m=\u001b[0m\u001b[1;36m10\u001b[0m\u001b[1;33m,\u001b[0m\u001b[0mcolors\u001b[0m\u001b[1;33m=\u001b[0m\u001b[1;34m'blue'\u001b[0m\u001b[1;33m)\u001b[0m\u001b[1;33m\u001b[0m\u001b[0m\n\u001b[0;32m      4\u001b[0m \u001b[0max\u001b[0m\u001b[1;33m=\u001b[0m\u001b[0mcc1\u001b[0m\u001b[1;33m.\u001b[0m\u001b[0mProfit\u001b[0m\u001b[1;33m.\u001b[0m\u001b[0mplot\u001b[0m\u001b[1;33m(\u001b[0m\u001b[0mkind\u001b[0m\u001b[1;33m=\u001b[0m\u001b[1;34m'bar'\u001b[0m\u001b[1;33m,\u001b[0m\u001b[0mcolor\u001b[0m\u001b[1;33m=\u001b[0m\u001b[1;34m'r'\u001b[0m\u001b[1;33m,\u001b[0m\u001b[0mgrid\u001b[0m\u001b[1;33m=\u001b[0m\u001b[1;32mTrue\u001b[0m\u001b[1;33m)\u001b[0m\u001b[1;33m\u001b[0m\u001b[0m\n\u001b[1;32m----> 5\u001b[1;33m \u001b[0max\u001b[0m\u001b[1;33m[\u001b[0m\u001b[1;36m2\u001b[0m\u001b[1;33m]\u001b[0m\u001b[1;33m.\u001b[0m\u001b[0mtick_params\u001b[0m\u001b[1;33m(\u001b[0m\u001b[0maxis\u001b[0m\u001b[1;33m=\u001b[0m\u001b[1;36m10\u001b[0m\u001b[1;33m,\u001b[0m\u001b[0mcolors\u001b[0m\u001b[1;33m=\u001b[0m\u001b[1;34m'blue'\u001b[0m\u001b[1;33m)\u001b[0m\u001b[1;33m\u001b[0m\u001b[0m\n\u001b[0m\u001b[0;32m      6\u001b[0m \u001b[0mplt\u001b[0m\u001b[1;33m.\u001b[0m\u001b[0mshow\u001b[0m\u001b[1;33m(\u001b[0m\u001b[1;33m)\u001b[0m\u001b[1;33m\u001b[0m\u001b[0m\n\u001b[0;32m      7\u001b[0m \u001b[1;31m#plt.twinx()\u001b[0m\u001b[1;33m\u001b[0m\u001b[1;33m\u001b[0m\u001b[0m\n",
      "\u001b[1;31mTypeError\u001b[0m: 'AxesSubplot' object does not support indexing"
     ]
    }
   ],
   "source": [
    "%pylab\n",
    "cc1=newSec.groupby('ctime').sum()\n",
    "plt.tick_params(axis=10,colors='blue')\n",
    "ax=cc1.Profit.plot(kind='bar',color='r',grid=True)\n",
    "ax[2].tick_params(axis=10,colors='blue')\n",
    "plt.show()\n",
    "#plt.twinx()\n",
    "#cc1.Profit.cumsum().plot(kind='line')"
   ]
  }
 ],
 "metadata": {
  "kernelspec": {
   "display_name": "Python 3",
   "language": "python",
   "name": "python3"
  },
  "language_info": {
   "codemirror_mode": {
    "name": "ipython",
    "version": 3
   },
   "file_extension": ".py",
   "mimetype": "text/x-python",
   "name": "python",
   "nbconvert_exporter": "python",
   "pygments_lexer": "ipython3",
   "version": "3.6.3"
  }
 },
 "nbformat": 4,
 "nbformat_minor": 2
}
