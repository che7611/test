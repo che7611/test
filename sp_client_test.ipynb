{
 "cells": [
  {
   "cell_type": "code",
   "execution_count": 1,
   "metadata": {
    "collapsed": true
   },
   "outputs": [],
   "source": [
    "import sys\n",
    "from datetime import datetime\n",
    "sys.path.append(r'C:\\Users\\CheZhiCheng\\PycharmProjects\\htv1\\spAPI')  #  添加包路径,把spAPI的路径添加到环境变量里面,暂时默认连到192.168.2.237上"
   ]
  },
  {
   "cell_type": "code",
   "execution_count": 2,
   "metadata": {
    "collapsed": true
   },
   "outputs": [],
   "source": [
    "from sub_client import *  # 加载客户端库\n",
    "@sub_ticker('HSIF8')    # 注册ticker回调函数\n",
    "def on_tick(ticker):\n",
    "    print(f'{datetime.fromtimestamp(ticker.TickerTime)}-Price:{ticker.Price}-Qty:{ticker.Qty}')\n",
    "\n",
    "@sub_price('HSIF8')   # 注册price回调函数\n",
    "def on_price(price):\n",
    "    pass"
   ]
  },
  {
   "cell_type": "code",
   "execution_count": 3,
   "metadata": {},
   "outputs": [
    {
     "name": "stdout",
     "output_type": "stream",
     "text": [
      "HSIF8-Ticker订阅成功\n",
      "HSIF8-Price订阅成功\n"
     ]
    }
   ],
   "source": [
    "on_tick.sub()   # 向服务器添加订阅请求\n",
    "on_price.sub()"
   ]
  },
  {
   "cell_type": "code",
   "execution_count": 4,
   "metadata": {},
   "outputs": [
    {
     "name": "stdout",
     "output_type": "stream",
     "text": [
      "2018-01-17 14:14:25-Price:31771.0-Qty:2\n",
      "2018-01-17 14:14:25-Price:31771.0-Qty:1\n",
      "2018-01-17 14:14:26-Price:31772.0-Qty:1\n",
      "2018-01-17 14:14:26-Price:31771.0-Qty:1\n",
      "2018-01-17 14:14:27-Price:31772.0-Qty:3\n",
      "2018-01-17 14:14:27-Price:31772.0-Qty:1\n",
      "2018-01-17 14:14:27-Price:31772.0-Qty:1\n",
      "2018-01-17 14:14:27-Price:31771.0-Qty:2\n",
      "2018-01-17 14:14:27-Price:31770.0-Qty:5\n",
      "2018-01-17 14:14:28-Price:31771.0-Qty:2\n",
      "2018-01-17 14:14:28-Price:31771.0-Qty:1\n",
      "2018-01-17 14:14:28-Price:31771.0-Qty:1\n",
      "2018-01-17 14:14:28-Price:31771.0-Qty:1\n",
      "2018-01-17 14:14:29-Price:31772.0-Qty:1\n",
      "2018-01-17 14:14:30-Price:31772.0-Qty:3\n",
      "2018-01-17 14:14:32-Price:31772.0-Qty:1\n",
      "2018-01-17 14:14:33-Price:31773.0-Qty:1\n",
      "2018-01-17 14:14:33-Price:31774.0-Qty:4\n",
      "2018-01-17 14:14:33-Price:31773.0-Qty:1\n",
      "2018-01-17 14:14:33-Price:31773.0-Qty:1\n",
      "2018-01-17 14:14:33-Price:31774.0-Qty:1\n",
      "2018-01-17 14:14:33-Price:31774.0-Qty:1\n"
     ]
    }
   ],
   "source": [
    "on_tick.start()  # 开始执行回调函数"
   ]
  },
  {
   "cell_type": "code",
   "execution_count": 5,
   "metadata": {},
   "outputs": [
    {
     "name": "stdout",
     "output_type": "stream",
     "text": [
      "HSIF8-Ticker取消订阅成功\n"
     ]
    }
   ],
   "source": [
    "on_tick.unsub()  # 取消订阅"
   ]
  },
  {
   "cell_type": "code",
   "execution_count": 15,
   "metadata": {
    "scrolled": true
   },
   "outputs": [
    {
     "name": "stdout",
     "output_type": "stream",
     "text": [
      "ASK:0.0, BID:0.0\n"
     ]
    }
   ],
   "source": [
    "current_price= on_price.get_price()\n",
    "print(f'ASK:{current_price.Ask}, BID:{current_price.Bid}')"
   ]
  },
  {
   "cell_type": "code",
   "execution_count": 8,
   "metadata": {},
   "outputs": [
    {
     "name": "stdout",
     "output_type": "stream",
     "text": [
      "2018-01-17 14:51:05-Price:31833.0-Qty:1\n"
     ]
    }
   ],
   "source": [
    "on_tick.stop()  # 停止执行回调函数"
   ]
  },
  {
   "cell_type": "code",
   "execution_count": 11,
   "metadata": {
    "collapsed": true
   },
   "outputs": [],
   "source": [
    "# logout() # 让服务器登出  最好不要执行后两行代码，因为会直接让服务器登出不提供服务的"
   ]
  },
  {
   "cell_type": "code",
   "execution_count": null,
   "metadata": {
    "collapsed": true
   },
   "outputs": [],
   "source": [
    "# login('SP_ID3') # SP_ID1,SP_ID2,SP_ID3分别对应的是三个帐号"
   ]
  }
 ],
 "metadata": {
  "kernelspec": {
   "display_name": "Python 3",
   "language": "python",
   "name": "python3"
  },
  "language_info": {
   "codemirror_mode": {
    "name": "ipython",
    "version": 3
   },
   "file_extension": ".py",
   "mimetype": "text/x-python",
   "name": "python",
   "nbconvert_exporter": "python",
   "pygments_lexer": "ipython3",
   "version": "3.6.3"
  }
 },
 "nbformat": 4,
 "nbformat_minor": 2
}
