{
 "cells": [
  {
   "cell_type": "code",
   "execution_count": 16,
   "metadata": {
    "scrolled": true
   },
   "outputs": [],
   "source": [
    "import base64\n",
    "import htisec\n",
    "user=base64.b64decode(b'YWNoZWNj').decode()\n",
    "pwd=base64.b64decode(b'YjgyMDkxMQ==').decode()\n",
    "web1=htisec.htisec_web()\n",
    "txt=web1.login_1(user,pwd)"
   ]
  },
  {
   "cell_type": "code",
   "execution_count": 17,
   "metadata": {},
   "outputs": [
    {
     "data": {
      "text/plain": [
       "1"
      ]
     },
     "execution_count": 17,
     "metadata": {},
     "output_type": "execute_result"
    }
   ],
   "source": [
    "otp='992539'\n",
    "web1.login_2(txt,otp)"
   ]
  },
  {
   "cell_type": "code",
   "execution_count": 29,
   "metadata": {},
   "outputs": [
    {
     "name": "stdout",
     "output_type": "stream",
     "text": [
      "Get_url https://futures.htisec.com/wf/enquiryOrderList.do 200,Re:[]\n",
      "Get_url https://futures.htisec.com/wf/enquiryOrderDetail.do?acc_order_no=2604&has_TS_falg=Y 200,Re:[]\n",
      "Get_url https://futures.htisec.com/wf/enquiryOrderDetail.do?acc_order_no=2605&has_TS_falg=Y 200,Re:[]\n",
      "Get_url https://futures.htisec.com/wf/enquiryOrderDetail.do?acc_order_no=2607&has_TS_falg=Y 200,Re:[]\n",
      "Get_url https://futures.htisec.com/wf/enquiryOrderDetail.do?acc_order_no=2608&has_TS_falg=Y 200,Re:[]\n",
      "Get_url https://futures.htisec.com/wf/enquiryOrderDetail.do?acc_order_no=2610&has_TS_falg=Y 200,Re:[]\n",
      "Get_url https://futures.htisec.com/wf/enquiryOrderDetail.do?acc_order_no=2613&has_TS_falg=Y 200,Re:[]\n",
      "{'HSIJ8': 0}\n"
     ]
    },
    {
     "data": {
      "text/html": [
       "<div>\n",
       "<style>\n",
       "    .dataframe thead tr:only-child th {\n",
       "        text-align: right;\n",
       "    }\n",
       "\n",
       "    .dataframe thead th {\n",
       "        text-align: left;\n",
       "    }\n",
       "\n",
       "    .dataframe tbody tr th {\n",
       "        vertical-align: top;\n",
       "    }\n",
       "</style>\n",
       "<table border=\"1\" class=\"dataframe\">\n",
       "  <thead>\n",
       "    <tr style=\"text-align: right;\">\n",
       "      <th></th>\n",
       "      <th>Bqty</th>\n",
       "      <th>Sqty</th>\n",
       "      <th>Hqty</th>\n",
       "      <th>Sum</th>\n",
       "      <th>Cost</th>\n",
       "      <th>Charges</th>\n",
       "      <th>PointT</th>\n",
       "      <th>Point_NET</th>\n",
       "      <th>Point_AVG</th>\n",
       "      <th>Profit</th>\n",
       "      <th>Profit_NET</th>\n",
       "      <th>Profit_AVG</th>\n",
       "    </tr>\n",
       "  </thead>\n",
       "  <tbody>\n",
       "    <tr>\n",
       "      <th>hold</th>\n",
       "      <td>0.0</td>\n",
       "      <td>0.0</td>\n",
       "      <td>0.0</td>\n",
       "      <td>0.0</td>\n",
       "      <td>0.0</td>\n",
       "      <td>0.00</td>\n",
       "      <td>1.3</td>\n",
       "      <td>NaN</td>\n",
       "      <td>NaN</td>\n",
       "      <td>NaN</td>\n",
       "      <td>NaN</td>\n",
       "      <td>NaN</td>\n",
       "    </tr>\n",
       "    <tr>\n",
       "      <th>close</th>\n",
       "      <td>34.0</td>\n",
       "      <td>-34.0</td>\n",
       "      <td>34.0</td>\n",
       "      <td>-457.0</td>\n",
       "      <td>NaN</td>\n",
       "      <td>2280.72</td>\n",
       "      <td>457.0</td>\n",
       "      <td>412.8</td>\n",
       "      <td>12.1</td>\n",
       "      <td>22850.0</td>\n",
       "      <td>20569.28</td>\n",
       "      <td>604.98</td>\n",
       "    </tr>\n",
       "    <tr>\n",
       "      <th>total</th>\n",
       "      <td>34.0</td>\n",
       "      <td>-34.0</td>\n",
       "      <td>0.0</td>\n",
       "      <td>-457.0</td>\n",
       "      <td>0.0</td>\n",
       "      <td>2280.72</td>\n",
       "      <td>0.0</td>\n",
       "      <td>-1.3</td>\n",
       "      <td>NaN</td>\n",
       "      <td>NaN</td>\n",
       "      <td>NaN</td>\n",
       "      <td>NaN</td>\n",
       "    </tr>\n",
       "  </tbody>\n",
       "</table>\n",
       "</div>"
      ],
      "text/plain": [
       "       Bqty  Sqty  Hqty    Sum  Cost  Charges  PointT  Point_NET  Point_AVG  \\\n",
       "hold    0.0   0.0   0.0    0.0   0.0     0.00     1.3        NaN        NaN   \n",
       "close  34.0 -34.0  34.0 -457.0   NaN  2280.72   457.0      412.8       12.1   \n",
       "total  34.0 -34.0   0.0 -457.0   0.0  2280.72     0.0       -1.3        NaN   \n",
       "\n",
       "        Profit  Profit_NET  Profit_AVG  \n",
       "hold       NaN         NaN         NaN  \n",
       "close  22850.0    20569.28      604.98  \n",
       "total      NaN         NaN         NaN  "
      ]
     },
     "execution_count": 29,
     "metadata": {},
     "output_type": "execute_result"
    }
   ],
   "source": [
    "import pandas  as pd\n",
    "res=pd.DataFrame(index=['hold','close','total'])\n",
    "hh=web1.get_orderlist()\n",
    "tradelist=web1.get_tradelist(hh)\n",
    "hold=web1.get_hold(hh)\n",
    "\n",
    "point1=50\n",
    "charges=67.08\n",
    "c_point=round(charges/point1,1)\n",
    "\n",
    "#hold-----------\n",
    "hold_b=hold.loc[hold.trade_qty>0,'trade_qty'].sum()\n",
    "hold_s=hold.loc[hold.trade_qty<0,'trade_qty'].sum()\n",
    "hold_t=hold_b+hold_s\n",
    "hold_sum=sum(hold['trade_qty']*hold['trade_price'])\n",
    "hold_cost=round(hold_sum/hold_t if hold_t!=0 else 0,1)\n",
    "hold_cost=-hold_cost if hold_t<0 else hold_cost\n",
    "hold_PointT=round(hold_cost+c_point if hold_t<0 else hold_cost+c_point,1)\n",
    "res.loc['hold','Bqty']=hold_b\n",
    "res.loc['hold','Sqty']=hold_s\n",
    "res.loc['hold','Hqty']=hold_t\n",
    "res.loc['hold','Sum']=hold_sum\n",
    "res.loc['hold','Cost']=hold_cost\n",
    "res.loc['hold','Charges']=abs(hold_t)*charges\n",
    "res.loc['hold','PointT']=hold_PointT\n",
    "\n",
    "#close-----------\n",
    "close_b=tradelist.loc[tradelist.trade_qty>0,'trade_qty'].sum()\n",
    "close_s=tradelist.loc[tradelist.trade_qty<0,'trade_qty'].sum()\n",
    "close_t=min(close_b,-close_s)\n",
    "lots_sum=sum(tradelist['trade_qty']*tradelist['trade_price'])\n",
    "c_pointT=-lots_sum-abs(hold_sum) if hold_t<0 else hold_sum-lots_sum\n",
    "c_point_net=c_pointT-close_t*c_point\n",
    "c_profit=c_pointT*point1\n",
    "c_profit_net=c_profit-close_t*charges\n",
    "res.loc['close','Bqty']=close_b\n",
    "res.loc['close','Sqty']=close_s\n",
    "res.loc['close','Hqty']=close_t\n",
    "res.loc['close','Sum']=lots_sum\n",
    "res.loc['close','Charges']=close_t*charges\n",
    "res.loc['close','PointT']=c_pointT\n",
    "res.loc['close','Point_NET']=c_point_net\n",
    "res.loc['close','Point_AVG']=round(c_pointT/close_t-c_point,1) if close_t!=0 else 0\n",
    "res.loc['close','Profit']=c_profit\n",
    "res.loc['close','Profit_NET']=c_profit_net\n",
    "res.loc['close','Profit_AVG']=round((c_profit-close_t*charges)/close_t,2)\n",
    "\n",
    "#total\n",
    "total_t=max(close_b,-close_s)\n",
    "Hqty=close_b+close_s\n",
    "total_PointT=round((lots_sum+total_t*c_point)/abs(Hqty) if Hqty!=0 else 0,1)\n",
    "Point_NET=-total_PointT+hold_PointT if Hqty<0 else total_PointT-hold_PointT\n",
    "res.loc['total','Bqty']=close_b\n",
    "res.loc['total','Sqty']=close_s\n",
    "res.loc['total','Hqty']=Hqty\n",
    "res.loc['total','Sum']=lots_sum\n",
    "res.loc['total','Charges']=total_t*charges\n",
    "res.loc['total','Cost']=round(lots_sum/abs(Hqty)  if Hqty!=0 else 0,1)\n",
    "res.loc['total','PointT']=total_PointT\n",
    "res.loc['total','Point_NET']=Point_NET\n",
    "\n",
    "rng=range(8,-7,-1)\n",
    "open_lots=range(0,14,2)\n",
    "cols=[ str(i)+'W' for i in rng]\n",
    "trade=pd.DataFrame(columns=cols)\n",
    "for ll in open_lots:\n",
    "    for i in rng:   \n",
    "        qty=0\n",
    "        if ll==0 and Hqty!=0:\n",
    "            qty=abs(Hqty)\n",
    "        elif ll>0:\n",
    "            qty=ll\n",
    "        if qty>0:            \n",
    "            winp=(i*10000/point1-c_point_net)/qty+c_point\n",
    "            if ll==0:\n",
    "                p_cost=round(hold_cost+winp,1)\n",
    "                index='Hold'+str(Hqty)\n",
    "                trade.loc[index,str(i)+'W']=p_cost\n",
    "            else:\n",
    "                winp=round(winp,1)\n",
    "                index='Lots'+str(ll)\n",
    "                trade.loc[index,str(i)+'W']=winp\n",
    "\n",
    "res"
   ]
  },
  {
   "cell_type": "code",
   "execution_count": 24,
   "metadata": {
    "scrolled": true
   },
   "outputs": [
    {
     "name": "stdout",
     "output_type": "stream",
     "text": [
      "Get_url https://futures.htisec.com/wf/enquiryOrderList.do 200,Re:[]\n"
     ]
    }
   ],
   "source": [
    "hh=web1.get_orderlist()\n",
    "hh.loc[hh.refno==8730,'status']='Mark'\n"
   ]
  },
  {
   "cell_type": "code",
   "execution_count": null,
   "metadata": {
    "collapsed": true
   },
   "outputs": [],
   "source": []
  }
 ],
 "metadata": {
  "kernelspec": {
   "display_name": "Python 3",
   "language": "python",
   "name": "python3"
  },
  "language_info": {
   "codemirror_mode": {
    "name": "ipython",
    "version": 3
   },
   "file_extension": ".py",
   "mimetype": "text/x-python",
   "name": "python",
   "nbconvert_exporter": "python",
   "pygments_lexer": "ipython3",
   "version": "3.6.3"
  }
 },
 "nbformat": 4,
 "nbformat_minor": 2
}
